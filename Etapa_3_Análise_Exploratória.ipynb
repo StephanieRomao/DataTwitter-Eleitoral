{
  "nbformat": 4,
  "nbformat_minor": 0,
  "metadata": {
    "colab": {
      "name": "Etapa 3 - Análise Exploratória.ipynb",
      "provenance": [],
      "authorship_tag": "ABX9TyOC24Zf0NaBgSVN3nTfAoD6",
      "include_colab_link": true
    },
    "kernelspec": {
      "name": "python3",
      "display_name": "Python 3"
    },
    "language_info": {
      "name": "python"
    }
  },
  "cells": [
    {
      "cell_type": "markdown",
      "metadata": {
        "id": "view-in-github",
        "colab_type": "text"
      },
      "source": [
        "<a href=\"https://colab.research.google.com/github/StephanieRomao/DataTwitter-Eleitoral/blob/main/Etapa_3_An%C3%A1lise_Explorat%C3%B3ria.ipynb\" target=\"_parent\"><img src=\"https://colab.research.google.com/assets/colab-badge.svg\" alt=\"Open In Colab\"/></a>"
      ]
    },
    {
      "cell_type": "markdown",
      "source": [
        "#Etapa 3 - EDA, Storytelling e Visualização\n"
      ],
      "metadata": {
        "id": "xyNDPXENQgbh"
      }
    },
    {
      "cell_type": "code",
      "execution_count": 1,
      "metadata": {
        "id": "-bXmBrtGQeEg"
      },
      "outputs": [],
      "source": [
        "import pandas as pd"
      ]
    },
    {
      "cell_type": "markdown",
      "source": [
        "Preciso terminar a etapa dois pra exportar os dados para ca."
      ],
      "metadata": {
        "id": "-YoEXv10iiFt"
      }
    },
    {
      "cell_type": "code",
      "source": [
        "dataframe_final_candidatos = pd.read_csv"
      ],
      "metadata": {
        "id": "e7_iEiiQiMrx"
      },
      "execution_count": null,
      "outputs": []
    },
    {
      "cell_type": "code",
      "source": [
        ""
      ],
      "metadata": {
        "id": "hxrb-CLvipyL"
      },
      "execution_count": null,
      "outputs": []
    }
  ]
}